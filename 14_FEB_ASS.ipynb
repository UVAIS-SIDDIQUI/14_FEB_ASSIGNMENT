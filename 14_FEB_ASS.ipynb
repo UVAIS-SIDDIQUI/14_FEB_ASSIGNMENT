{
 "cells": [
  {
   "cell_type": "code",
   "execution_count": 2,
   "id": "299ea64f-1292-4ecf-95c4-b0b40bbf692d",
   "metadata": {},
   "outputs": [],
   "source": [
    "# What is multithreading in python? why is it used? Name the module used to handle threads in python."
   ]
  },
  {
   "cell_type": "markdown",
   "id": "e391a412-1eea-47e5-b510-5d1286632108",
   "metadata": {},
   "source": [
    "ANS = Multithreading is a way of achieving multitasking in Python. It is used to run multiple threads (tasks, function calls) at the same time. In Python, the threading module provides a very simple and intuitive API for spawning multiple threads in a program\n",
    "\n",
    "---> The threading module provides a way to create threads, the Thread class is used to create threads. The start() method starts a new thread and calls the method run() in parallel1.\n",
    "\n",
    "The Global Interpreter Lock (GIL) is a mechanism that ensures that only one thread executes Python bytecode at a time. This lock is necessary mainly because CPython’s memory management is not thread-safe"
   ]
  },
  {
   "cell_type": "code",
   "execution_count": 3,
   "id": "e1e515c1-4cfd-42c3-8be2-574993aabed8",
   "metadata": {},
   "outputs": [],
   "source": [
    "#Why threading module used? Write the use of the following functions:\n",
    "# 1 activeCount()\n",
    "# 2 currentThread()\n",
    "# 3 enumerate()"
   ]
  },
  {
   "cell_type": "markdown",
   "id": "eceb7995-3728-4735-ad6b-1cce61a98ded",
   "metadata": {},
   "source": [
    "ANS = The threading module is used to create and manage threads in Python. It provides a way to create threads, the Thread class is used to create threads. The start() method starts a new thread and calls the method run() in parallel1.\n",
    "\n",
    "The following are the uses of the following functions:\n",
    "\n",
    "activeCount(): This method returns the number of Thread objects that are active at any instant.\n",
    "\n",
    "currentThread(): This method returns a list of all Thread objects that are currently active.\n",
    "\n",
    "enumerate(): This method returns a list of all Thread objects that are currently active."
   ]
  },
  {
   "cell_type": "code",
   "execution_count": 4,
   "id": "aa7b14f2-036a-4a31-87e2-87083e905a7e",
   "metadata": {},
   "outputs": [],
   "source": [
    "# Explain the following functions:\n",
    "# 1.run()\n",
    "# 2.start()\n",
    "# 3.join()\n",
    "# 4.isAlive()"
   ]
  },
  {
   "cell_type": "markdown",
   "id": "6a02b81c-5609-4b86-aadf-716375c89849",
   "metadata": {},
   "source": [
    "ANS = These functions are related to working with threads in Python. Threads are a way to achieve concurrent execution in a program, allowing multiple tasks to run in parallel. Threads share the same memory space and can improve the performance of certain types of applications by allowing them to execute multiple tasks simultaneously.\n",
    "\n",
    "run():\n",
    "\n",
    "This method is not typically used directly on threads. Instead, it is usually overridden in a subclass of the threading.Thread class to define the behavior of the thread.\n",
    "When you create a new thread using the threading.Thread class, you can provide a target function that will be executed when the thread starts. This function is usually named run().\n",
    "By default, the run() method of the Thread class does nothing. You need to override it in your own subclass and provide the code that you want to run in the new thread.\n",
    "When you start the thread using the start() method, it will automatically execute the run() method that you've defined.\n",
    "\n",
    "start():\n",
    "\n",
    "This method is used to start the execution of a thread.\n",
    "After you create a new thread instance using the threading.Thread class and configure its properties (like the target function to execute), you need to call the start() method to initiate the thread's execution.\n",
    "Calling start() will not execute the target function immediately. Instead, it will start the thread's execution in the background, allowing it to run concurrently with other threads or the main program.\n",
    "You should avoid calling the target function directly using run() as this won't create a separate thread; it will just execute the function in the current thread.\n",
    "\n",
    "join():\n",
    "\n",
    "The join() method is used to wait for a thread to complete its execution before moving on to the next code.\n",
    "When you call join() on a thread instance, the program will pause and wait until the specified thread finishes executing before continuing.\n",
    "This is useful when you want to make sure that the main program waits for all threads to complete before proceeding, ensuring that you have accurate and consistent results.\n",
    "\n",
    "\n",
    "Example:\n",
    "\n",
    "my_thread = threading.Thread(target=my_function)\n",
    "\n",
    "my_thread.start()\n",
    "\n",
    "my_thread.join()  # Wait for the thread to finish before continuing\n",
    "\n",
    "\n",
    "isAlive():\n",
    "\n",
    "This method is used to determine whether a thread is currently running or not.\n",
    "When you create a thread and start its execution using the start() method, you can later use the isAlive() method to check if the thread is still running.\n",
    "It returns True if the thread is currently executing, and False if it has finished execution.\n",
    "\n",
    "Example :\n",
    "\n",
    "if my_thread.isAlive():\n",
    "\n",
    "    print(\"Thread is still running\").\n",
    "    \n",
    "else:\n",
    "\n",
    "    print(\"Thread has finished\")\n",
    "\n"
   ]
  },
  {
   "cell_type": "code",
   "execution_count": 5,
   "id": "37fc8ae2-2a04-4002-88fb-4036bab16c96",
   "metadata": {},
   "outputs": [],
   "source": [
    "# Write a python program to create two threads. Thread one must print the list of squares and thread two must print the list of cubes."
   ]
  },
  {
   "cell_type": "code",
   "execution_count": 6,
   "id": "b96368ea-1452-460c-9143-8c5bc1cfcf7d",
   "metadata": {},
   "outputs": [],
   "source": [
    "import threading\n",
    "\n",
    "def print_squares(numbers):\n",
    "    for num in numbers:\n",
    "        print(f\"Square of {num}: {num ** 2}\")\n",
    "\n",
    "def print_cubes(numbers):\n",
    "    for num in numbers:\n",
    "        print(f\"Cube of {num}: {num ** 3}\")\n",
    "\n",
    "def main():\n",
    "    numbers = [1, 2, 3, 4, 5]\n",
    "\n",
    "    thread1 = threading.Thread(target=print_squares, args=(numbers,))\n",
    "    thread2 = threading.Thread(target=print_cubes, args=(numbers,))\n",
    "\n",
    "    thread1.start()\n",
    "    thread2.start()\n",
    "\n",
    "    thread1.join()\n",
    "    thread2.join()\n",
    "\n",
    "    print(\"Both threads have finished.\")\n"
   ]
  },
  {
   "cell_type": "code",
   "execution_count": 7,
   "id": "78f1c933-8391-4cbf-b084-3ace56b043ad",
   "metadata": {},
   "outputs": [
    {
     "name": "stdout",
     "output_type": "stream",
     "text": [
      "Square of 1: 1\n",
      "Square of 2: 4\n",
      "Square of 3: 9\n",
      "Square of 4: 16\n",
      "Square of 5: 25\n",
      "Cube of 1: 1\n",
      "Cube of 2: 8\n",
      "Cube of 3: 27\n",
      "Cube of 4: 64\n",
      "Cube of 5: 125\n",
      "Both threads have finished.\n"
     ]
    }
   ],
   "source": [
    "main()"
   ]
  },
  {
   "cell_type": "code",
   "execution_count": 1,
   "id": "4be0d290-9183-4c52-b992-f83384a50fb7",
   "metadata": {},
   "outputs": [],
   "source": [
    "# State advantages and disadvantages of multithreading ."
   ]
  },
  {
   "cell_type": "markdown",
   "id": "1c324be3-c9cb-45b1-8428-f3cfc8d9a5d5",
   "metadata": {},
   "source": [
    "ANS = Multithreading in Python is similar to multithreading in other programming languages. It allows concurrent execution of two or more parts of a program for maximum utilization of CPU time.\n",
    "\n",
    "Advantages:-\n",
    "\n",
    "->It doesn’t block the user. This is because threads are independent of each other.\n",
    "\n",
    "->Better use of system resources is possible since threads execute tasks parallely.\n",
    "\n",
    "->Enhanced performance on multi-processor machines.\n",
    "\n",
    "-->Multi-threaded servers and interactive GUIs can be created.\n",
    "\n",
    "Disadvantages:-\n",
    "\n",
    "->Increases the complexity of the program.\n",
    "\n",
    "->Synchronization of shared resources (objects, data) is necessary.\n",
    "\n",
    "->Difficult to debug unpredictable results.\n",
    "\n",
    "->Constructing and synchronizing threads is CPU/memory intensive."
   ]
  },
  {
   "cell_type": "code",
   "execution_count": 2,
   "id": "e8f8e512-3994-4a99-b4f2-00b6046b11cc",
   "metadata": {},
   "outputs": [],
   "source": [
    "# Explain deadlocks and race conditions."
   ]
  },
  {
   "cell_type": "markdown",
   "id": "50991f6a-30e7-4681-8331-99c90b8d5286",
   "metadata": {},
   "source": [
    "ANS = A race condition is a situation that occurs when two or more threads access shared data and try to change it at the same time. As a result, the values of the shared data are unpredictable and depend on the order in which the threads execute. This can cause data corruption and other issues.\n",
    "\n",
    "A deadlock is a situation that occurs when two or more threads are blocked because they are waiting for each other to release resources. In other words, each thread is waiting for another thread to release a resource that it needs before it can proceed. This can cause the program to hang or become unresponsive."
   ]
  },
  {
   "cell_type": "code",
   "execution_count": null,
   "id": "b108cbd1-0c3e-45f0-b695-a00b0f41790e",
   "metadata": {},
   "outputs": [],
   "source": []
  }
 ],
 "metadata": {
  "kernelspec": {
   "display_name": "Python 3 (ipykernel)",
   "language": "python",
   "name": "python3"
  },
  "language_info": {
   "codemirror_mode": {
    "name": "ipython",
    "version": 3
   },
   "file_extension": ".py",
   "mimetype": "text/x-python",
   "name": "python",
   "nbconvert_exporter": "python",
   "pygments_lexer": "ipython3",
   "version": "3.10.8"
  }
 },
 "nbformat": 4,
 "nbformat_minor": 5
}
